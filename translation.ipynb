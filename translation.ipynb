{
 "cells": [
  {
   "cell_type": "code",
   "execution_count": 1,
   "id": "b9d2cb5a-c9ea-4ffd-81f9-d6a6d148b29d",
   "metadata": {},
   "outputs": [],
   "source": [
    "import torch\n",
    "import torch.nn as nn\n",
    "import torch.optim as optim\n",
    "import torch.nn.functional as F\n",
    "from torch.autograd import Variable \n",
    "import matplotlib.pyplot as plt\n",
    "import matplotlib.ticker as ticker\n",
    "%matplotlib inline \n",
    "\n",
    "device = \"cpu\""
   ]
  },
  {
   "cell_type": "markdown",
   "id": "4aad10c6-b66e-48da-a5c2-f7645bffcdcf",
   "metadata": {},
   "source": [
    "Define SOS, EOS, Length, Device and Helper Functions"
   ]
  },
  {
   "cell_type": "code",
   "execution_count": 2,
   "id": "cd6f5857-d773-4e84-aeb7-270fe459c548",
   "metadata": {},
   "outputs": [],
   "source": [
    "SOS = 0\n",
    "EOS = 1\n",
    "max_length = 10\n",
    "\n",
    "def convert_unicode_ascii(unicode_str):\n",
    "    return ''.join(char for char in unicodedata.normalize('NFD',s) if unicodedata.category(c) != 'Mn')\n",
    "\n",
    "def normalize_string(s):\n",
    "    s = convert_unicode_ascii(s.lower().strip())\n",
    "    s = re.sub(r\"([.!?])\", r\" \\1\", s) #remove punctuation\n",
    "    s = re.sub(r\"[^a-zA-Z.!?]+\", r\" \", s) #remove non letter chars\n",
    "    return s"
   ]
  },
  {
   "cell_type": "markdown",
   "id": "1b7466ac-78e4-4b90-ba17-0f695c06ae3b",
   "metadata": {},
   "source": [
    "Language Class. We can then manage Integer/String mappings. We need to do this for both languages."
   ]
  },
  {
   "cell_type": "code",
   "execution_count": 4,
   "id": "3a3f0c87-e1de-4c5b-96c5-b99ac71bcb11",
   "metadata": {},
   "outputs": [],
   "source": [
    "class LanguageProcessor:\n",
    "    def __init__(self, name):\n",
    "        self.name = name\n",
    "        self.stoi = {} #String to Integer\n",
    "        self.itos = {0: \"SOS\", 1: \"EOS\"} #Integer to String \n",
    "        self.wordFrequency = {} #Word Frequency Mapping\n",
    "        self.num_words = 2\n",
    "\n",
    "    def index_word(self,word):\n",
    "        if word not in self.stoi:\n",
    "            #if not found, create mappings\n",
    "            self.stoi[word] = self.num_words #unique index for each new word\n",
    "            self.wordFrequency[word] = 1\n",
    "            self.itos[self.num_words] = word\n",
    "            self.num_words += 1\n",
    "        else:\n",
    "            #if found, increment cout\n",
    "            self.stoi[word] += 1"
   ]
  },
  {
   "cell_type": "code",
   "execution_count": null,
   "id": "769be49c-a77c-4ccf-8e47-a8c34540e883",
   "metadata": {},
   "outputs": [],
   "source": []
  }
 ],
 "metadata": {
  "kernelspec": {
   "display_name": "Python 3 (ipykernel)",
   "language": "python",
   "name": "python3"
  },
  "language_info": {
   "codemirror_mode": {
    "name": "ipython",
    "version": 3
   },
   "file_extension": ".py",
   "mimetype": "text/x-python",
   "name": "python",
   "nbconvert_exporter": "python",
   "pygments_lexer": "ipython3",
   "version": "3.12.2"
  }
 },
 "nbformat": 4,
 "nbformat_minor": 5
}
